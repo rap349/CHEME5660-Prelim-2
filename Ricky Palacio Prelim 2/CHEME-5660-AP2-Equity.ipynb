{
 "cells": [
  {
   "cell_type": "markdown",
   "id": "58a3fffe-8775-4701-b156-ca0c0b443383",
   "metadata": {},
   "source": [
    "## CHEME 5660 Actual Prelim 2 Equity Question"
   ]
  },
  {
   "cell_type": "markdown",
   "id": "3156c6e0-064f-471e-908e-c8e7861d4e3c",
   "metadata": {},
   "source": [
    "You are a Quant at Olin Financial, an up-and-coming hedge fund. You have been tasked with computing the distribution of possible future share price values for firm XYZ.\n",
    "Suppose the share price of firm XYZ at time $t$, denoted by $S(t)$, is governed by a geometric Brownian motion with the solution:\n",
    "\n",
    "$$\n",
    "\\begin{equation}\\label{eqn-gbm-anal-soln}\n",
    "S(t) = S_{\\circ}\\exp\\left(\\left(\\mu - \\frac{\\sigma^{2}}{2}\\right)\\left(t-t_{\\circ}\\right)+\\sigma\\sqrt{t-t_{\\circ}}\\cdot{Z(0,1)}\\right)\n",
    "\\end{equation}\n",
    "$$\n",
    "\n",
    "where $S_{\\circ}$ denotes the initial share price at $t_{\\circ}<t$, $\\mu$ denotes the rate of return parameter, \n",
    "$\\sigma>0$ denotes the volatility parameter and $Z\\left(0,1\\right)$ denotes a standard-normal random variable. \n",
    "\n",
    "__Assumptions__: (i) the implied volatility of an At the Money (ATM) `01/20/2023` option on XYZ is 52.27\\%; \n",
    "(ii) there are 78 days to 01/20/2023 (from today); (iii) the current share price of XYZ is 270.89 USD/share.\n",
    "\n",
    "Use the Jupyter notebook `CHEME-5660-PP2-Equity.ipynb`, and any associated data sets, or other course materials to answer the following questions:\n",
    "\n",
    "* a) Estimate the rate of return parameter $\\mu$ from historical OHLC data for firm XYZ.\n",
    "* b) Estimate the volatility parameter $\\sigma$ from historical OHLC data for firm XYZ.\n",
    "* c) Using your estimates of the $\\mu$ and $\\sigma$ parameters, along with the analytical GBM solution, estimate a distribution of possible future share price values of XYZ on `01/20/2023`. Generate N = 10,000 sample paths and let $t_{\\circ} = 0$ (now)."
   ]
  },
  {
   "cell_type": "markdown",
   "id": "8d531443-9ce1-46bd-bfbc-6a1f425563a7",
   "metadata": {},
   "source": [
    "## Solution"
   ]
  },
  {
   "cell_type": "code",
   "execution_count": 1,
   "id": "eefd8c05-a73c-4433-97c4-65c92a8807db",
   "metadata": {},
   "outputs": [
    {
     "name": "stderr",
     "output_type": "stream",
     "text": [
      "\u001b[32m\u001b[1m  Activating\u001b[22m\u001b[39m project at `C:\\Users\\ricky\\Desktop\\CHEME-5660-Markets-Mayhem-Example-Notebooks-main\\prelims\\P2\\actual`\n",
      "\u001b[32m\u001b[1m  No Changes\u001b[22m\u001b[39m to `C:\\Users\\ricky\\Desktop\\CHEME-5660-Markets-Mayhem-Example-Notebooks-main\\prelims\\P2\\actual\\Project.toml`\n",
      "\u001b[32m\u001b[1m  No Changes\u001b[22m\u001b[39m to `C:\\Users\\ricky\\Desktop\\CHEME-5660-Markets-Mayhem-Example-Notebooks-main\\prelims\\P2\\actual\\Manifest.toml`\n"
     ]
    }
   ],
   "source": [
    "import Pkg; Pkg.activate(\".\"); Pkg.resolve(); Pkg.instantiate();"
   ]
  },
  {
   "cell_type": "code",
   "execution_count": 2,
   "id": "2e6fb085-85e9-4d92-95ff-7e722c5fd28a",
   "metadata": {},
   "outputs": [],
   "source": [
    "# load external packages that are required for the calculations -\n",
    "using DataFrames\n",
    "using CSV\n",
    "using Dates\n",
    "using Statistics\n",
    "using LinearAlgebra\n",
    "using Plots\n",
    "using Colors\n",
    "using Distributions\n",
    "using StatsPlots\n",
    "\n",
    "# setup paths to load XYZ OHLC data set -\n",
    "const _NOTEBOOK_ROOT = pwd();\n",
    "const _PATH_TO_DATA = joinpath(_NOTEBOOK_ROOT, \"data\");"
   ]
  },
  {
   "cell_type": "code",
   "execution_count": 3,
   "id": "c525a0d2-817b-4452-856b-2ec5a5bfb6ec",
   "metadata": {},
   "outputs": [],
   "source": [
    "include(\"CHEME-5560-AP2-CodeLib.jl\"); # Look inside me to find out what I have!"
   ]
  },
  {
   "cell_type": "code",
   "execution_count": 4,
   "id": "6cda2351-1536-4641-8f2a-cb78e2849aa6",
   "metadata": {},
   "outputs": [],
   "source": [
    "# load the OHLC data set -\n",
    "df = CSV.read(joinpath(_PATH_TO_DATA, \"CHEME-5660-OHLC-XYZ-AP2-F22.csv\"), DataFrame);"
   ]
  },
  {
   "cell_type": "code",
   "execution_count": 5,
   "id": "e1a05d4e-808e-4909-a3c1-7e306a07834a",
   "metadata": {},
   "outputs": [],
   "source": [
    "# setup constants -\n",
    "ΔT = 78.0;             # days to expiration (units: days)\n",
    "B = 365.0;             # number of days per year\n",
    "IV = 52.27;            # implied volatility\n",
    "Sₒ = 270.89;           # initial share price given in the problem\n",
    "\n",
    "# plot and sim constants stuff for later -\n",
    "number_of_bins = 80;\n",
    "number_of_sample_paths = 10000;"
   ]
  },
  {
   "cell_type": "markdown",
   "id": "3fef7c6b-80cb-48cc-b211-ecef2fc25bdb",
   "metadata": {},
   "source": [
    "#### Split the historical data into training and prediction sets"
   ]
  },
  {
   "cell_type": "code",
   "execution_count": 6,
   "id": "9cd933d8-c77d-46f5-848e-ddd703a95ea0",
   "metadata": {},
   "outputs": [],
   "source": [
    "α = 0.80; # fraction of data for training (you get to choose this)"
   ]
  },
  {
   "cell_type": "code",
   "execution_count": 7,
   "id": "917b8cf7-6b90-43fc-b650-5299c7712289",
   "metadata": {},
   "outputs": [],
   "source": [
    "# instead of using all the data from 1 - let's specify a start index -\n",
    "start_index = 280; # you also get to choose this! (1 -> all data)\n",
    "df_local = df[start_index:end, :]\n",
    "\n",
    "N = nrow(df_local); # this is the number of rows in the total data set -\n",
    "ℒ = Int64(round(α*N));\n",
    "\n",
    "# split the data into to two chunks, training and validation\n",
    "all_range = range(1,stop=N,step=1) |> collect\n",
    "T_all = all_range*(1.0/365.0) .- (1.0/365.0)\n",
    "\n",
    "# time ranges for the training, and prediction sets\n",
    "training_range = range(1,stop=ℒ, step=1);\n",
    "prediction_range = range(ℒ+1,stop=N, step=1);\n",
    "\n",
    "# data sets -\n",
    "df_training = df_local[training_range,:];\n",
    "df_prediction = df_local[prediction_range,:];"
   ]
  },
  {
   "cell_type": "code",
   "execution_count": 8,
   "id": "18bc10e4-31e3-429f-a075-3056fd085521",
   "metadata": {},
   "outputs": [],
   "source": [
    "# build an empty model, add stuff to it -\n",
    "training_model = GeometricBrownianMotionModel()\n",
    "training_model.T₁ = 0.0\n",
    "training_model.T₂ = 0.0;\n",
    "training_model.h = (1.0/365.0)\n",
    "training_model.Xₒ = df_local[1,:close]; # we can change where we start \n",
    "\n",
    "# parameter values -\n",
    "training_model.μ = 0.0; # we don't know this value yet, 0 for now\n",
    "training_model.σ = 0.0; # we don't know this value yet, 0 for now"
   ]
  },
  {
   "cell_type": "markdown",
   "id": "1805d70c-2757-483f-a484-d6d270e208d5",
   "metadata": {},
   "source": [
    "### a) Estimate the rate of return parameter $\\mu$\n",
    "\n",
    "#### Strategy\n",
    "Let $A$ denote the $\\mathcal{S}\\times{2}$ matrix holding the time values; the first column of $A$ is all 1's while the second column holds the $(t-t_{\\circ})$ values. Further, let $Y$ denote the QQQ close price values (in the same order as the $A$ matrix). Then, the y-intercept and slope can be estimated by solving the `overdetermined` system of equations:\n",
    "\n",
    "$$A\\theta = Y$$\n",
    "\n",
    "where $\\theta$ denotes a $2\\times{1}$ vector of unknown parameters; the first element is the y-intercept $b=\\ln{S_{\\circ}}$ while the second element is $\\hat{\\mu}$, an estimate of the growth-rate parameter. This system can be solved as:\n",
    "\n",
    "$$\\theta = (A^{T}A)^{-1}A^{T}Y$$\n",
    "\n",
    "where $A^{T}$ denotes the transpose of the matrix $A$. "
   ]
  },
  {
   "cell_type": "code",
   "execution_count": 9,
   "id": "419f01cf-a336-4cad-88bd-bd80f32d8e7a",
   "metadata": {},
   "outputs": [
    {
     "data": {
      "text/plain": [
       "-2.606023650199397"
      ]
     },
     "metadata": {},
     "output_type": "display_data"
    }
   ],
   "source": [
    "# fill me in...\n",
    "# Setup the normal equations -\n",
    "XD = [ones(Int64(round(α*N))) T_all[training_range]];\n",
    "P̂ = log.(df_training[!,:close]);\n",
    "P̂_prediction = log.(df_prediction[!,:close]);\n",
    "\n",
    "# Solve the normal equations -\n",
    "θ = inv(transpose(XD)*XD)*transpose(XD)*P̂;\n",
    "\n",
    "# get estimated μ -\n",
    "μ̂ = θ[2];\n",
    "\n",
    "# update the training model -\n",
    "training_model.μ = 1.0*μ̂;\n",
    "\n",
    "# compute model -\n",
    "b = θ[1];\n",
    "P̂_model = b .+ μ̂*T_all;\n",
    "display(μ̂ )"
   ]
  },
  {
   "cell_type": "code",
   "execution_count": null,
   "id": "db5030de-4333-4c70-a06d-adcf03e7c4c7",
   "metadata": {},
   "outputs": [],
   "source": [
    "# check: it sure would be nice to see you soln against the data ...\n",
    "# check\n",
    "plot(T_all[training_range], P̂, label=\"Training data\", lw=3)\n",
    "plot!(T_all[prediction_range], P̂_prediction, lw=3, c=:red, label=\"Prediction data\")\n",
    "plot!(T_all, P̂_model, lw=3, c=:green, label=\"Model\")\n",
    "\n",
    "xlabel!(\"Time (years)\", fontsize=18)\n",
    "ylabel!(\"ln(S) of XYZ\", fontsize=18)"
   ]
  },
  {
   "cell_type": "markdown",
   "id": "e6d7c9a1-8a11-49d6-91c7-d83683378942",
   "metadata": {},
   "source": [
    "### b) Estimate the volatility parameter $\\sigma$\n",
    "\n",
    "#### Strategy\n",
    "\n",
    "To construct an estimate of the volatility parameter $\\hat{\\sigma}$ we try to match the model estimated variance:\n",
    "\n",
    "$$\\text{Var}\\left(S_{t}\\right) = S_{\\circ}^{2}e^{2\\mu{(t-t_{\\circ})}}\\left[e^{\\sigma^{2}{(t-t_{\\circ})}} - 1\\right]$$\n",
    "\n",
    "with the variance in the price data; where we let $\\mu=\\hat{\\mu}$ and the variance $\\text{Var}\\left(X_{t}\\right)$ is calculated by using the [implied volatility (IV)](https://www.investopedia.com/terms/i/iv.asp). The [implied volatility (IV)](https://www.investopedia.com/terms/i/iv.asp) gives the market estimate of the standard deviation of the price T-days in the future:\n",
    "\n",
    "$$\\sigma_{IV} = S_{\\circ}\\times\\left(\\frac{IV}{100}\\right)\\times\\left(\\sqrt{\\frac{T}{365}}\\right)$$\n",
    "\n",
    "However, $\\sigma^{2}_{IV}(t)\\simeq{\\text{Var}\\left(X_{t}\\right)}$; thus, we can solve the variance expression for $\\sigma$:\n",
    "\n",
    "$$\\sigma^{2} = \\frac{1}{T^{\\prime}}\\times\\ln\\left(\\frac{\\text{Var}\\left(S_{T^{\\prime}}\\right)}{S_{\\circ}^{2}e^{2\\mu{T^{\\prime}}}} + 1\\right)$$\n",
    "\n",
    "where:\n",
    "\n",
    "$$T^{\\prime} = \\frac{1}{365}\\left(T - T_{\\circ}\\right)$$"
   ]
  },
  {
   "cell_type": "code",
   "execution_count": null,
   "id": "7095fb01-da3e-4689-9d30-95ea82bb0171",
   "metadata": {},
   "outputs": [],
   "source": [
    "# estimate the volatility σ̂ -\n",
    "# fill me in\n",
    "# Compute the price variance that is expected from the IV -\n",
    "Sₒ = df_local[1,:close]; # get the initial share price at the beginning of the \"local\" data\n",
    "N_local = length(df_local[1,:close]);\n",
    "Var_market = (Sₒ*(IV/100.0)*sqrt(N_local/365))^2 # variance of price using the IV -\n",
    "\n",
    "\n",
    "# how many day of data do we have in the \"local\" data set?\n",
    "# N_local = length(df_local[1,:close]);\n",
    "T_market = (N_local/365.0)\n",
    "\n",
    "# Convert the price variance into σ (volatility parameter in the GMB soln)\n",
    "a = Var_market/((Sₒ^2)*exp(2*μ̂*T_market)) + 1\n",
    "σ̂ = sqrt((1/T_market)*log(a));\n",
    "display(σ̂ )"
   ]
  },
  {
   "cell_type": "markdown",
   "id": "19257b19-cbd2-4152-8f45-0c8bd77badf7",
   "metadata": {},
   "source": [
    "### c) Predict share price distribution of `XYZ` T = 78 days into the future"
   ]
  },
  {
   "cell_type": "code",
   "execution_count": null,
   "id": "9088a62a-a856-4661-8cca-aed8c2cf298c",
   "metadata": {},
   "outputs": [],
   "source": [
    "# build new prediction model -\n",
    "future_prediction_model = GeometricBrownianMotionModel()\n",
    "future_prediction_model.T₁ = 0.0\n",
    "future_prediction_model.T₂ = (ΔT/B);\n",
    "future_prediction_model.h = (1.0/365.0)\n",
    "future_prediction_model.Xₒ = Sₒ; # share price from the problem\n",
    "\n",
    "# parameter values -\n",
    "future_prediction_model.μ = μ̂ ; # replace this with your estimated value\n",
    "future_prediction_model.σ = σ̂ ; # replace this with your estimated value"
   ]
  },
  {
   "cell_type": "code",
   "execution_count": null,
   "id": "ae1aa3a2-cda1-4dba-895d-12f0ed469583",
   "metadata": {},
   "outputs": [],
   "source": [
    "# run simulation using the solve function in the code library\n",
    "# fill me in ...\n",
    "future_prediction = solve(future_prediction_model; 𝒫 = 10000);"
   ]
  },
  {
   "cell_type": "code",
   "execution_count": null,
   "id": "c86f6f20-eae1-4f75-9126-276e0a95f2c9",
   "metadata": {},
   "outputs": [],
   "source": [
    "# check: it would awesome to see the what those simulation paths look like!\n",
    "T = future_prediction[:,1];\n",
    "X = future_prediction[:,2:end];\n",
    "\n",
    "skip_factor = 10\n",
    "plot(T, X[:,1:skip_factor:end], label=\"\", c=colorant\"#BDBBBB\")\n",
    "xlabel!(\"Time (years)\", fontsize=18)\n",
    "ylabel!(\"Share price of XYZ\", fontsize=18)"
   ]
  },
  {
   "cell_type": "code",
   "execution_count": null,
   "id": "668044b7-f89c-4143-a7e7-01b9f5cb0e8f",
   "metadata": {},
   "outputs": [],
   "source": [
    "# fit a log normal to the simulated data - \n",
    "# fill me in ...\n",
    "d = fit_mle(LogNormal, X[end, 2:end]);\n",
    "LNM = rand(d,1000);"
   ]
  },
  {
   "cell_type": "code",
   "execution_count": null,
   "id": "5f098ea5-1fd5-4346-9771-7da4d454428d",
   "metadata": {},
   "outputs": [],
   "source": [
    "# visualize the price distribution\n",
    "# fill me in ...\n",
    "stephist(X[end, 2:end], bins = number_of_bins, normed = :true, lw = 2, c = :blue,\n",
    "    label = \"XYZ simulation (local)\")\n",
    "stephist!(LNM, bins = number_of_bins, normed = :true, lw = 2, c = :red,\n",
    "    label = \"XYZ Log Normal model (local)\")\n",
    "\n",
    "xlabel!(\"Share price XYZ (USD/share)\", fontsize=18)\n",
    "ylabel!(\"Frequency (Bins = $(number_of_bins)) (AU)\", fontsize=18)"
   ]
  },
  {
   "cell_type": "code",
   "execution_count": null,
   "id": "44ebf751-9e62-45c2-8ba0-587fefbe42d2",
   "metadata": {},
   "outputs": [],
   "source": [
    "# show the parameters, or use the params command (need these for Options question)\n",
    "# See: https://juliastats.org/Distributions.jl/stable/univariate/#StatsAPI.params-Tuple{UnivariateDistribution}\n",
    "params(d::UnivariateDistribution)"
   ]
  },
  {
   "cell_type": "code",
   "execution_count": null,
   "id": "13f9c991",
   "metadata": {},
   "outputs": [],
   "source": []
  }
 ],
 "metadata": {
  "kernelspec": {
   "display_name": "Julia 1.8.2",
   "language": "julia",
   "name": "julia-1.8"
  },
  "language_info": {
   "file_extension": ".jl",
   "mimetype": "application/julia",
   "name": "julia",
   "version": "1.8.2"
  }
 },
 "nbformat": 4,
 "nbformat_minor": 5
}
